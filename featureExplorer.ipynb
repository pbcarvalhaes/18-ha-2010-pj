{
 "cells": [
  {
   "cell_type": "code",
   "execution_count": 33,
   "metadata": {},
   "outputs": [
    {
     "name": "stdout",
     "output_type": "stream",
     "text": [
      "Collecting xgboost\n",
      "  Using cached xgboost-1.6.1-py3-none-win_amd64.whl (125.4 MB)\n",
      "Requirement already satisfied: numpy in d:\\anaconda3\\lib\\site-packages (from xgboost) (1.21.5)\n",
      "Requirement already satisfied: scipy in d:\\anaconda3\\lib\\site-packages (from xgboost) (1.7.3)\n",
      "Installing collected packages: xgboost\n",
      "Successfully installed xgboost-1.6.1\n",
      "Note: you may need to restart the kernel to use updated packages.\n"
     ]
    }
   ],
   "source": [
    "pip install xgboost"
   ]
  },
  {
   "cell_type": "code",
   "execution_count": 6,
   "metadata": {},
   "outputs": [],
   "source": [
    "import csv\n",
    "import scipy.io as sio\n",
    "import matplotlib.pyplot as plt\n",
    "import numpy as np\n",
    "from ecgdetectors import Detectors\n",
    "import os\n",
    "from wettbewerb import load_references"
   ]
  },
  {
   "cell_type": "markdown",
   "metadata": {},
   "source": [
    "Adding new features to the previous XGB model "
   ]
  },
  {
   "cell_type": "code",
   "execution_count": 7,
   "metadata": {},
   "outputs": [
    {
     "name": "stdout",
     "output_type": "stream",
     "text": [
      "6000\t Dateien wurden geladen.\n"
     ]
    }
   ],
   "source": [
    "# Importiere EKG-Dateien, zugehörige Diagnose, Sampling-Frequenz (Hz) und Name\n",
    "\n",
    "ecg_leads,ecg_labels,fs,ecg_names = load_references('./training')    # Wenn der Ordner mit der Database Training von moodle in einem anderen Ordner liegt, fügen Sie hier den korrigierten Pfad ein \n",
    "\n",
    "detectors = Detectors(fs)                                     # Initialisierung des QRS-Detektors\n",
    "\n",
    "                                                              # Initialisierung der Feature-Arrays für Stationary Wavelet Transform Detector Detecto \n",
    "    \n",
    "    \n",
    "sdnn_swt = np.array([])                                       \n",
    "hr_swt = np.array([])                                  \n",
    "pNN20_swt = np.array([])                                  \n",
    "pNN50_swt = np.array([])      \n",
    "fAnalysis_swt = np.array([])   \n"
   ]
  },
  {
   "cell_type": "code",
   "execution_count": 30,
   "metadata": {
    "scrolled": true
   },
   "outputs": [
    {
     "name": "stdout",
     "output_type": "stream",
     "text": [
      "0\t EKG Signale wurden verarbeitet.\n",
      "100\t EKG Signale wurden verarbeitet.\n",
      "200\t EKG Signale wurden verarbeitet.\n",
      "300\t EKG Signale wurden verarbeitet.\n",
      "400\t EKG Signale wurden verarbeitet.\n",
      "500\t EKG Signale wurden verarbeitet.\n",
      "600\t EKG Signale wurden verarbeitet.\n",
      "700\t EKG Signale wurden verarbeitet.\n",
      "800\t EKG Signale wurden verarbeitet.\n",
      "900\t EKG Signale wurden verarbeitet.\n",
      "1000\t EKG Signale wurden verarbeitet.\n",
      "1100\t EKG Signale wurden verarbeitet.\n",
      "1200\t EKG Signale wurden verarbeitet.\n",
      "1300\t EKG Signale wurden verarbeitet.\n",
      "1400\t EKG Signale wurden verarbeitet.\n",
      "1500\t EKG Signale wurden verarbeitet.\n",
      "1600\t EKG Signale wurden verarbeitet.\n",
      "1700\t EKG Signale wurden verarbeitet.\n",
      "1800\t EKG Signale wurden verarbeitet.\n",
      "1900\t EKG Signale wurden verarbeitet.\n",
      "2000\t EKG Signale wurden verarbeitet.\n",
      "2100\t EKG Signale wurden verarbeitet.\n",
      "2200\t EKG Signale wurden verarbeitet.\n"
     ]
    },
    {
     "name": "stderr",
     "output_type": "stream",
     "text": [
      "D:\\anaconda3\\lib\\site-packages\\numpy\\core\\_methods.py:262: RuntimeWarning: Degrees of freedom <= 0 for slice\n",
      "  ret = _var(a, axis=axis, dtype=dtype, out=out, ddof=ddof,\n",
      "D:\\anaconda3\\lib\\site-packages\\numpy\\core\\_methods.py:222: RuntimeWarning: invalid value encountered in true_divide\n",
      "  arrmean = um.true_divide(arrmean, div, out=arrmean, casting='unsafe',\n",
      "D:\\anaconda3\\lib\\site-packages\\numpy\\core\\_methods.py:254: RuntimeWarning: invalid value encountered in double_scalars\n",
      "  ret = ret.dtype.type(ret / rcount)\n",
      "D:\\anaconda3\\lib\\site-packages\\numpy\\core\\fromnumeric.py:3440: RuntimeWarning: Mean of empty slice.\n",
      "  return _methods._mean(a, axis=axis, dtype=dtype,\n",
      "D:\\anaconda3\\lib\\site-packages\\numpy\\core\\_methods.py:189: RuntimeWarning: invalid value encountered in double_scalars\n",
      "  ret = ret.dtype.type(ret / rcount)\n"
     ]
    },
    {
     "name": "stdout",
     "output_type": "stream",
     "text": [
      "2300\t EKG Signale wurden verarbeitet.\n",
      "2400\t EKG Signale wurden verarbeitet.\n",
      "2500\t EKG Signale wurden verarbeitet.\n",
      "2600\t EKG Signale wurden verarbeitet.\n",
      "2700\t EKG Signale wurden verarbeitet.\n",
      "2800\t EKG Signale wurden verarbeitet.\n",
      "2900\t EKG Signale wurden verarbeitet.\n",
      "3000\t EKG Signale wurden verarbeitet.\n",
      "3100\t EKG Signale wurden verarbeitet.\n",
      "3200\t EKG Signale wurden verarbeitet.\n",
      "3300\t EKG Signale wurden verarbeitet.\n",
      "3400\t EKG Signale wurden verarbeitet.\n",
      "3500\t EKG Signale wurden verarbeitet.\n",
      "3600\t EKG Signale wurden verarbeitet.\n",
      "3700\t EKG Signale wurden verarbeitet.\n",
      "3800\t EKG Signale wurden verarbeitet.\n",
      "3900\t EKG Signale wurden verarbeitet.\n",
      "4000\t EKG Signale wurden verarbeitet.\n",
      "4100\t EKG Signale wurden verarbeitet.\n",
      "4200\t EKG Signale wurden verarbeitet.\n",
      "4300\t EKG Signale wurden verarbeitet.\n",
      "4400\t EKG Signale wurden verarbeitet.\n",
      "4500\t EKG Signale wurden verarbeitet.\n",
      "4600\t EKG Signale wurden verarbeitet.\n",
      "4700\t EKG Signale wurden verarbeitet.\n",
      "4800\t EKG Signale wurden verarbeitet.\n",
      "4900\t EKG Signale wurden verarbeitet.\n",
      "5000\t EKG Signale wurden verarbeitet.\n",
      "5100\t EKG Signale wurden verarbeitet.\n",
      "5200\t EKG Signale wurden verarbeitet.\n",
      "5300\t EKG Signale wurden verarbeitet.\n",
      "5400\t EKG Signale wurden verarbeitet.\n",
      "5500\t EKG Signale wurden verarbeitet.\n",
      "5600\t EKG Signale wurden verarbeitet.\n",
      "5700\t EKG Signale wurden verarbeitet.\n",
      "5800\t EKG Signale wurden verarbeitet.\n",
      "5900\t EKG Signale wurden verarbeitet.\n"
     ]
    }
   ],
   "source": [
    "from hrv import HRV\n",
    "\n",
    "hrv_class = HRV(fs)\n",
    "\n",
    "\n",
    "arr = np.zeros((6000,6))\n",
    "diagnosis = np.zeros(6000,dtype='str')\n",
    "\n",
    "for idx, ecg_lead in enumerate(ecg_leads):\n",
    "   \n",
    "    r_peaks_swt = detectors.swt_detector(ecg_lead)              # Detektion der QRS-Komplexe mit Stationary Wavelet Transform Detector\n",
    "\n",
    "#   sdnn_swt = np.std(np.diff(r_peaks_swt)/fs*1000)             # Berechnung der Standardabweichung der Schlag-zu-Schlag Intervalle (SDNN) in Millisekunden - Stationary Wavelet Transform\n",
    "    sdnn_swt = hrv_class.SDNN(r_peaks_swt, True)\n",
    "    rmssd_swt = hrv_class.RMSSD(r_peaks_swt)\n",
    "    sdsd_swt = hrv_class.SDSD(r_peaks_swt)\n",
    "    NN20_swt = hrv_class.NN20(r_peaks_swt)\n",
    "    NN50_swt = hrv_class.NN50(r_peaks_swt)\n",
    "#   fAnalysis_swt\n",
    "\n",
    "    arr[idx][0] = idx\n",
    "    arr[idx][1] = sdnn_swt\n",
    "    arr[idx][2] = rmssd_swt\n",
    "    arr[idx][3] = sdsd_swt\n",
    "    arr[idx][4] = NN20_swt\n",
    "    arr[idx][5] = NN50_swt\n",
    "    \n",
    "    \n",
    "    if ecg_labels[idx] == 'N':\n",
    "        diagnosis[idx] = 'N'\n",
    "    if ecg_labels[idx] == 'A':\n",
    "        diagnosis[idx] = 'A'\n",
    "    if ecg_labels[idx] == 'O':\n",
    "        diagnosis[idx] = 'O'\n",
    "    if ecg_labels[idx] == '~':\n",
    "        diagnosis[idx] = '~'\n",
    "    if (idx % 100) == 0:\n",
    "        print(str(idx) + \"\\t EKG Signale wurden verarbeitet.\")"
   ]
  },
  {
   "cell_type": "code",
   "execution_count": 31,
   "metadata": {},
   "outputs": [
    {
     "data": {
      "text/html": [
       "<div>\n",
       "<style scoped>\n",
       "    .dataframe tbody tr th:only-of-type {\n",
       "        vertical-align: middle;\n",
       "    }\n",
       "\n",
       "    .dataframe tbody tr th {\n",
       "        vertical-align: top;\n",
       "    }\n",
       "\n",
       "    .dataframe thead th {\n",
       "        text-align: right;\n",
       "    }\n",
       "</style>\n",
       "<table border=\"1\" class=\"dataframe\">\n",
       "  <thead>\n",
       "    <tr style=\"text-align: right;\">\n",
       "      <th></th>\n",
       "      <th>SDNN</th>\n",
       "      <th>RMSSD</th>\n",
       "      <th>SDSD</th>\n",
       "      <th>NN20</th>\n",
       "      <th>NN50</th>\n",
       "      <th>diagnosis</th>\n",
       "    </tr>\n",
       "  </thead>\n",
       "  <tbody>\n",
       "    <tr>\n",
       "      <th>0</th>\n",
       "      <td>0.050097</td>\n",
       "      <td>61.293918</td>\n",
       "      <td>60.353735</td>\n",
       "      <td>18.0</td>\n",
       "      <td>9.0</td>\n",
       "      <td>N</td>\n",
       "    </tr>\n",
       "    <tr>\n",
       "      <th>1</th>\n",
       "      <td>0.063049</td>\n",
       "      <td>52.383910</td>\n",
       "      <td>52.144742</td>\n",
       "      <td>13.0</td>\n",
       "      <td>8.0</td>\n",
       "      <td>N</td>\n",
       "    </tr>\n",
       "    <tr>\n",
       "      <th>2</th>\n",
       "      <td>0.137136</td>\n",
       "      <td>107.316518</td>\n",
       "      <td>107.309672</td>\n",
       "      <td>51.0</td>\n",
       "      <td>36.0</td>\n",
       "      <td>O</td>\n",
       "    </tr>\n",
       "    <tr>\n",
       "      <th>3</th>\n",
       "      <td>0.047354</td>\n",
       "      <td>70.161483</td>\n",
       "      <td>70.133672</td>\n",
       "      <td>23.0</td>\n",
       "      <td>15.0</td>\n",
       "      <td>N</td>\n",
       "    </tr>\n",
       "    <tr>\n",
       "      <th>4</th>\n",
       "      <td>0.172107</td>\n",
       "      <td>176.694180</td>\n",
       "      <td>176.631067</td>\n",
       "      <td>45.0</td>\n",
       "      <td>42.0</td>\n",
       "      <td>O</td>\n",
       "    </tr>\n",
       "    <tr>\n",
       "      <th>...</th>\n",
       "      <td>...</td>\n",
       "      <td>...</td>\n",
       "      <td>...</td>\n",
       "      <td>...</td>\n",
       "      <td>...</td>\n",
       "      <td>...</td>\n",
       "    </tr>\n",
       "    <tr>\n",
       "      <th>5995</th>\n",
       "      <td>0.340999</td>\n",
       "      <td>224.238630</td>\n",
       "      <td>224.010554</td>\n",
       "      <td>56.0</td>\n",
       "      <td>46.0</td>\n",
       "      <td>~</td>\n",
       "    </tr>\n",
       "    <tr>\n",
       "      <th>5996</th>\n",
       "      <td>0.136465</td>\n",
       "      <td>75.485303</td>\n",
       "      <td>75.459248</td>\n",
       "      <td>54.0</td>\n",
       "      <td>34.0</td>\n",
       "      <td>A</td>\n",
       "    </tr>\n",
       "    <tr>\n",
       "      <th>5997</th>\n",
       "      <td>0.123708</td>\n",
       "      <td>192.678969</td>\n",
       "      <td>192.677246</td>\n",
       "      <td>33.0</td>\n",
       "      <td>19.0</td>\n",
       "      <td>O</td>\n",
       "    </tr>\n",
       "    <tr>\n",
       "      <th>5998</th>\n",
       "      <td>0.357294</td>\n",
       "      <td>295.408714</td>\n",
       "      <td>294.693932</td>\n",
       "      <td>24.0</td>\n",
       "      <td>21.0</td>\n",
       "      <td>O</td>\n",
       "    </tr>\n",
       "    <tr>\n",
       "      <th>5999</th>\n",
       "      <td>0.109996</td>\n",
       "      <td>96.553094</td>\n",
       "      <td>96.059552</td>\n",
       "      <td>31.0</td>\n",
       "      <td>18.0</td>\n",
       "      <td>N</td>\n",
       "    </tr>\n",
       "  </tbody>\n",
       "</table>\n",
       "<p>6000 rows × 6 columns</p>\n",
       "</div>"
      ],
      "text/plain": [
       "          SDNN       RMSSD        SDSD  NN20  NN50 diagnosis\n",
       "0     0.050097   61.293918   60.353735  18.0   9.0         N\n",
       "1     0.063049   52.383910   52.144742  13.0   8.0         N\n",
       "2     0.137136  107.316518  107.309672  51.0  36.0         O\n",
       "3     0.047354   70.161483   70.133672  23.0  15.0         N\n",
       "4     0.172107  176.694180  176.631067  45.0  42.0         O\n",
       "...        ...         ...         ...   ...   ...       ...\n",
       "5995  0.340999  224.238630  224.010554  56.0  46.0         ~\n",
       "5996  0.136465   75.485303   75.459248  54.0  34.0         A\n",
       "5997  0.123708  192.678969  192.677246  33.0  19.0         O\n",
       "5998  0.357294  295.408714  294.693932  24.0  21.0         O\n",
       "5999  0.109996   96.553094   96.059552  31.0  18.0         N\n",
       "\n",
       "[6000 rows x 6 columns]"
      ]
     },
     "execution_count": 31,
     "metadata": {},
     "output_type": "execute_result"
    }
   ],
   "source": [
    "import pandas as pd\n",
    "\n",
    "df = pd.DataFrame(arr, columns = ['index', 'SDNN', 'RMSSD', 'SDSD', 'NN20', 'NN50'])\n",
    "df.drop(['index'],axis=1, inplace = True)\n",
    "df.rename(columns = {'level_0':'index'}, inplace = True)\n",
    "df['diagnosis'] = diagnosis\n",
    "\n",
    "df"
   ]
  },
  {
   "cell_type": "code",
   "execution_count": 38,
   "metadata": {},
   "outputs": [
    {
     "data": {
      "text/html": [
       "<div>\n",
       "<style scoped>\n",
       "    .dataframe tbody tr th:only-of-type {\n",
       "        vertical-align: middle;\n",
       "    }\n",
       "\n",
       "    .dataframe tbody tr th {\n",
       "        vertical-align: top;\n",
       "    }\n",
       "\n",
       "    .dataframe thead th {\n",
       "        text-align: right;\n",
       "    }\n",
       "</style>\n",
       "<table border=\"1\" class=\"dataframe\">\n",
       "  <thead>\n",
       "    <tr style=\"text-align: right;\">\n",
       "      <th></th>\n",
       "      <th>SDNN</th>\n",
       "      <th>RMSSD</th>\n",
       "      <th>SDSD</th>\n",
       "      <th>NN20</th>\n",
       "      <th>NN50</th>\n",
       "      <th>diagnosis</th>\n",
       "    </tr>\n",
       "  </thead>\n",
       "  <tbody>\n",
       "    <tr>\n",
       "      <th>0</th>\n",
       "      <td>0.050097</td>\n",
       "      <td>61.293918</td>\n",
       "      <td>60.353735</td>\n",
       "      <td>18.0</td>\n",
       "      <td>9.0</td>\n",
       "      <td>N</td>\n",
       "    </tr>\n",
       "    <tr>\n",
       "      <th>1</th>\n",
       "      <td>0.063049</td>\n",
       "      <td>52.383910</td>\n",
       "      <td>52.144742</td>\n",
       "      <td>13.0</td>\n",
       "      <td>8.0</td>\n",
       "      <td>N</td>\n",
       "    </tr>\n",
       "    <tr>\n",
       "      <th>2</th>\n",
       "      <td>0.137136</td>\n",
       "      <td>107.316518</td>\n",
       "      <td>107.309672</td>\n",
       "      <td>51.0</td>\n",
       "      <td>36.0</td>\n",
       "      <td>O</td>\n",
       "    </tr>\n",
       "    <tr>\n",
       "      <th>3</th>\n",
       "      <td>0.047354</td>\n",
       "      <td>70.161483</td>\n",
       "      <td>70.133672</td>\n",
       "      <td>23.0</td>\n",
       "      <td>15.0</td>\n",
       "      <td>N</td>\n",
       "    </tr>\n",
       "    <tr>\n",
       "      <th>4</th>\n",
       "      <td>0.172107</td>\n",
       "      <td>176.694180</td>\n",
       "      <td>176.631067</td>\n",
       "      <td>45.0</td>\n",
       "      <td>42.0</td>\n",
       "      <td>O</td>\n",
       "    </tr>\n",
       "    <tr>\n",
       "      <th>...</th>\n",
       "      <td>...</td>\n",
       "      <td>...</td>\n",
       "      <td>...</td>\n",
       "      <td>...</td>\n",
       "      <td>...</td>\n",
       "      <td>...</td>\n",
       "    </tr>\n",
       "    <tr>\n",
       "      <th>5995</th>\n",
       "      <td>0.340999</td>\n",
       "      <td>224.238630</td>\n",
       "      <td>224.010554</td>\n",
       "      <td>56.0</td>\n",
       "      <td>46.0</td>\n",
       "      <td>~</td>\n",
       "    </tr>\n",
       "    <tr>\n",
       "      <th>5996</th>\n",
       "      <td>0.136465</td>\n",
       "      <td>75.485303</td>\n",
       "      <td>75.459248</td>\n",
       "      <td>54.0</td>\n",
       "      <td>34.0</td>\n",
       "      <td>A</td>\n",
       "    </tr>\n",
       "    <tr>\n",
       "      <th>5997</th>\n",
       "      <td>0.123708</td>\n",
       "      <td>192.678969</td>\n",
       "      <td>192.677246</td>\n",
       "      <td>33.0</td>\n",
       "      <td>19.0</td>\n",
       "      <td>O</td>\n",
       "    </tr>\n",
       "    <tr>\n",
       "      <th>5998</th>\n",
       "      <td>0.357294</td>\n",
       "      <td>295.408714</td>\n",
       "      <td>294.693932</td>\n",
       "      <td>24.0</td>\n",
       "      <td>21.0</td>\n",
       "      <td>O</td>\n",
       "    </tr>\n",
       "    <tr>\n",
       "      <th>5999</th>\n",
       "      <td>0.109996</td>\n",
       "      <td>96.553094</td>\n",
       "      <td>96.059552</td>\n",
       "      <td>31.0</td>\n",
       "      <td>18.0</td>\n",
       "      <td>N</td>\n",
       "    </tr>\n",
       "  </tbody>\n",
       "</table>\n",
       "<p>5999 rows × 6 columns</p>\n",
       "</div>"
      ],
      "text/plain": [
       "          SDNN       RMSSD        SDSD  NN20  NN50 diagnosis\n",
       "0     0.050097   61.293918   60.353735  18.0   9.0         N\n",
       "1     0.063049   52.383910   52.144742  13.0   8.0         N\n",
       "2     0.137136  107.316518  107.309672  51.0  36.0         O\n",
       "3     0.047354   70.161483   70.133672  23.0  15.0         N\n",
       "4     0.172107  176.694180  176.631067  45.0  42.0         O\n",
       "...        ...         ...         ...   ...   ...       ...\n",
       "5995  0.340999  224.238630  224.010554  56.0  46.0         ~\n",
       "5996  0.136465   75.485303   75.459248  54.0  34.0         A\n",
       "5997  0.123708  192.678969  192.677246  33.0  19.0         O\n",
       "5998  0.357294  295.408714  294.693932  24.0  21.0         O\n",
       "5999  0.109996   96.553094   96.059552  31.0  18.0         N\n",
       "\n",
       "[5999 rows x 6 columns]"
      ]
     },
     "execution_count": 38,
     "metadata": {},
     "output_type": "execute_result"
    }
   ],
   "source": [
    "df.dropna(inplace=True)\n",
    "df"
   ]
  },
  {
   "cell_type": "code",
   "execution_count": 59,
   "metadata": {},
   "outputs": [],
   "source": [
    "from sklearn.tree import DecisionTreeClassifier # Import Decision Tree Classifier\n",
    "from sklearn.model_selection import train_test_split # Import train_test_split function\n",
    "from sklearn import metrics #Import scikit-learn metrics module for accuracy calculation\n",
    "from sklearn.ensemble import RandomForestClassifier\n",
    "import xgboost as xgb\n",
    "from sklearn.preprocessing import LabelEncoder"
   ]
  },
  {
   "cell_type": "code",
   "execution_count": 60,
   "metadata": {},
   "outputs": [],
   "source": [
    "X=df[df.columns[:-1]]\n",
    "y=df['diagnosis']\n",
    "X_train, X_test, y_train, y_test = train_test_split(X, y, test_size=0.2,random_state=42)"
   ]
  },
  {
   "cell_type": "markdown",
   "metadata": {},
   "source": [
    "# Tree"
   ]
  },
  {
   "cell_type": "code",
   "execution_count": 61,
   "metadata": {},
   "outputs": [
    {
     "name": "stdout",
     "output_type": "stream",
     "text": [
      "Using all detectors:\n",
      "Accuracy: 0.68\n",
      "F1: 0.6560666857384592\n"
     ]
    }
   ],
   "source": [
    "clf = DecisionTreeClassifier(max_depth=3)\n",
    "clf = clf.fit(X_train,y_train)\n",
    "y_pred = clf.predict(X_test)\n",
    "print('Using all detectors:')\n",
    "print(\"Accuracy:\",metrics.accuracy_score(y_test, y_pred))\n",
    "print(\"F1:\",metrics.f1_score(y_test, y_pred, average='weighted'))"
   ]
  },
  {
   "cell_type": "code",
   "execution_count": 62,
   "metadata": {},
   "outputs": [
    {
     "name": "stdout",
     "output_type": "stream",
     "text": [
      "Max Accuracy: 0.6825\n",
      "Max F1: 0.6669000118403364\n"
     ]
    },
    {
     "data": {
      "image/png": "[encoded data removed]",
      "text/plain": [
       "<Figure size 432x288 with 1 Axes>"
      ]
     },
     "metadata": {
      "needs_background": "light"
     },
     "output_type": "display_data"
    },
    {
     "data": {
      "image/png": "[encoded data removed]",
      "text/plain": [
       "<Figure size 432x288 with 1 Axes>"
      ]
     },
     "metadata": {
      "needs_background": "light"
     },
     "output_type": "display_data"
    }
   ],
   "source": [
    "thresholds = np.linspace(1, 20, num=20)    # Liste aller möglichen Schwellwerte\n",
    "F1 = np.array([])\n",
    "acc = np.array([])\n",
    "for th in thresholds:\n",
    "    clf = DecisionTreeClassifier(max_depth=int(th))\n",
    "    clf = clf.fit(X_train,y_train)\n",
    "    y_pred = clf.predict(X_test)\n",
    "    F1 = np.append(F1, metrics.f1_score(y_test, y_pred, average='weighted'))\n",
    "    acc = np.append(acc, metrics.accuracy_score(y_test, y_pred))\n",
    "    \n",
    "F1_opt = thresholds[np.argmax(F1)] \n",
    "acc_opt = thresholds[np.argmax(acc)]\n",
    "\n",
    "print(\"Max Accuracy:\",np.amax(acc))\n",
    "print(\"Max F1:\",np.amax(F1))\n",
    "\n",
    "fig, ax = plt.subplots()\n",
    "ax.plot(thresholds,acc)\n",
    "ax.plot(acc_opt,acc[np.argmax(acc)],'xr')\n",
    "ax.set_title(\"Tree using Detectors\")\n",
    "ax.set_xlabel(\"Max depth\")\n",
    "ax.set_ylabel(\"Accuracy\")\n",
    "plt.show()\n",
    "\n",
    "fig, ax = plt.subplots()\n",
    "ax.plot(thresholds,F1)\n",
    "ax.plot(F1_opt,F1[np.argmax(F1)],'xr')\n",
    "ax.set_title(\"Tree using Detectors\")\n",
    "ax.set_xlabel(\"Max depth\")\n",
    "ax.set_ylabel(\"F1\")\n",
    "plt.show()"
   ]
  },
  {
   "cell_type": "markdown",
   "metadata": {},
   "source": [
    "# Random Forest"
   ]
  },
  {
   "cell_type": "code",
   "execution_count": 44,
   "metadata": {},
   "outputs": [
    {
     "name": "stdout",
     "output_type": "stream",
     "text": [
      "Accuracy: 0.6541666666666667\n",
      "F1: 0.658814821219853\n"
     ]
    }
   ],
   "source": [
    "clf = RandomForestClassifier(n_estimators=10,max_depth=30,bootstrap=True,min_samples_leaf=5, class_weight=\"balanced\")\n",
    "clf.fit(X_train,y_train)\n",
    "\n",
    "y_pred = clf.predict(X_test)\n",
    "\n",
    "print(\"Accuracy:\",metrics.accuracy_score(y_test, y_pred))\n",
    "print(\"F1:\",metrics.f1_score(y_test, y_pred, average='weighted'))"
   ]
  },
  {
   "cell_type": "code",
   "execution_count": 55,
   "metadata": {},
   "outputs": [
    {
     "name": "stdout",
     "output_type": "stream",
     "text": [
      "Max Accuracy: 0.7\n",
      "Max F1: 0.6914767369655335\n"
     ]
    }
   ],
   "source": [
    "n = 30\n",
    "thresholds = np.linspace((1,11), (n,40), num=n)    # Liste aller möglichen Schwellwerte\n",
    "leaf_values = np.linspace(1, 10, num=10)             # Liste aller möglichen Schwellwerte für den dritte Parameter\n",
    "X_th = np.array([])\n",
    "Y_th = np.array([])\n",
    "Z_th = np.array([])\n",
    "F1 = np.array([])\n",
    "acc = np.array([])\n",
    "for thx in thresholds[:,0]:\n",
    "    for thy in thresholds[:,1]:\n",
    "        for thz in leaf_values:\n",
    "            clf = RandomForestClassifier(n_estimators= int(thx), max_depth=int(thy), bootstrap=True, min_samples_leaf=int(thz), class_weight=\"balanced\")\n",
    "            clf.fit(X_train, y_train)\n",
    "            y_pred = clf.predict(X_test)\n",
    "\n",
    "            X_th = np.append(X_th, thx)\n",
    "            Y_th = np.append(Y_th, thy)\n",
    "            Z_th = np.append(Z_th, thz)\n",
    "\n",
    "            F1 = np.append(F1, metrics.f1_score(y_test, y_pred, average='weighted'))\n",
    "            acc = np.append(acc, metrics.accuracy_score(y_test, y_pred))\n",
    "        \n",
    "F1_opt = F1[np.argmax(F1)] \n",
    "acc_opt = acc[np.argmax(acc)]\n",
    "\n",
    "print(\"Max Accuracy:\",acc_opt)\n",
    "print(\"Max F1:\",F1_opt)"
   ]
  },
  {
   "cell_type": "code",
   "execution_count": 56,
   "metadata": {},
   "outputs": [
    {
     "name": "stdout",
     "output_type": "stream",
     "text": [
      "Optimal Number os Estimators for Accuracy: 23.0\n",
      "Optimal Max Depth for Accuracy: 16.0\n",
      "Optimal Min Samples Leaf for Accuracy: 1.0\n",
      "Optimal Number os Estimators for F1: 16.0\n",
      "Optimal Max Depth for F1: 18.0\n",
      "Optimal Min Samples Leaf for F1: 2.0\n"
     ]
    }
   ],
   "source": [
    "print(\"Optimal Number os Estimators for Accuracy:\", X_th[np.argmax(acc)])\n",
    "print(\"Optimal Max Depth for Accuracy:\", Y_th[np.argmax(acc)])\n",
    "print(\"Optimal Min Samples Leaf for Accuracy:\", Z_th[np.argmax(acc)])\n",
    "print(\"Optimal Number os Estimators for F1:\", X_th[np.argmax(F1)])\n",
    "print(\"Optimal Max Depth for F1:\", Y_th[np.argmax(F1)])\n",
    "print(\"Optimal Min Samples Leaf for F1:\", Z_th[np.argmax(F1)])"
   ]
  },
  {
   "cell_type": "markdown",
   "metadata": {},
   "source": [
    "# XGB"
   ]
  },
  {
   "cell_type": "code",
   "execution_count": 106,
   "metadata": {},
   "outputs": [],
   "source": [
    "arr = df.to_numpy()\n",
    "X = arr[:,:-1]\n",
    "y = arr[:,-1]\n",
    "X_train, X_test, y_train, y_test = train_test_split(X, y, test_size=0.33, random_state=42)"
   ]
  },
  {
   "cell_type": "code",
   "execution_count": 93,
   "metadata": {},
   "outputs": [],
   "source": [
    "encoder = LabelEncoder()\n",
    "y_train = encoder.fit_transform(y_train)\n",
    "\n",
    "model = xgb.XGBClassifier()\n",
    "model.fit(X_train, y_train)\n",
    "\n",
    "y_pred = model.predict(X_test)\n",
    "y_pred = encoder.inverse_transform(y_pred)"
   ]
  },
  {
   "cell_type": "code",
   "execution_count": 94,
   "metadata": {},
   "outputs": [
    {
     "name": "stdout",
     "output_type": "stream",
     "text": [
      "Accuracy: 0.6813131313131313\n",
      "F1: 0.6685110125035012\n"
     ]
    }
   ],
   "source": [
    "print(\"Accuracy:\",metrics.accuracy_score(y_test, y_pred))\n",
    "print(\"F1:\",metrics.f1_score(y_test, y_pred, average='weighted'))"
   ]
  },
  {
   "cell_type": "code",
   "execution_count": 109,
   "metadata": {},
   "outputs": [
    {
     "name": "stdout",
     "output_type": "stream",
     "text": [
      "\n",
      "\n",
      "thx = 1.0\n",
      "\n",
      "\n",
      "thx = 2.0\n",
      "\n",
      "\n",
      "thx = 3.0\n",
      "\n",
      "\n",
      "thx = 4.0\n",
      "\n",
      "\n",
      "thx = 5.0\n",
      "\n",
      "\n",
      "thx = 6.0\n",
      "\n",
      "\n",
      "thx = 7.0\n",
      "\n",
      "\n",
      "thx = 8.0\n",
      "\n",
      "\n",
      "thx = 9.0\n",
      "\n",
      "\n",
      "thx = 10.0\n",
      "\n",
      "\n",
      "thx = 11.0\n",
      "\n",
      "\n",
      "thx = 12.0\n",
      "\n",
      "\n",
      "thx = 13.0\n",
      "\n",
      "\n",
      "thx = 14.0\n",
      "\n",
      "\n",
      "thx = 15.0\n",
      "\n",
      "\n",
      "Max Accuracy: 0.7095959595959596\n",
      "Max F1: 0.6918097818739821\n"
     ]
    }
   ],
   "source": [
    "arr = df.to_numpy()\n",
    "X = arr[:,:-1]\n",
    "y = arr[:,-1]\n",
    "X_train, X_test, y_train, y_test = train_test_split(X, y, test_size=0.33, random_state=42)\n",
    "\n",
    "n = 15\n",
    "thresholds = np.linspace((1,0.01), (n,0.3), num=n)    # Liste aller möglichen Schwellwerte\n",
    "X_th = np.array([])\n",
    "Y_th = np.array([])\n",
    "Z_th = np.array([])\n",
    "\n",
    "encoder = LabelEncoder()\n",
    "y_train = encoder.fit_transform(y_train)\n",
    "\n",
    "F1 = np.array([])\n",
    "acc = np.array([])\n",
    "for thx in thresholds[:,0]:\n",
    "    print()\n",
    "    print()\n",
    "    print(\"thx =\", thx)\n",
    "    for thy in thresholds[:,1]:\n",
    "        for thz in range(3,9):\n",
    "            \n",
    "            model = xgb.XGBClassifier(n_estimators= int(thx), learning_rate = thy, max_depth = int(thz))\n",
    "            model.fit(X_train, y_train)\n",
    "\n",
    "            y_pred = model.predict(X_test)\n",
    "            y_pred = encoder.inverse_transform(y_pred)\n",
    "            \n",
    "\n",
    "            X_th = np.append(X_th, thx)\n",
    "            Y_th = np.append(Y_th, thy)\n",
    "            Z_th = np.append(Z_th, thz)\n",
    "            \n",
    "\n",
    "            F1 = np.append(F1, metrics.f1_score(y_test, y_pred, average='weighted'))\n",
    "            acc = np.append(acc, metrics.accuracy_score(y_test, y_pred))\n",
    "\n",
    "F1_opt = F1[np.argmax(F1)] \n",
    "acc_opt = acc[np.argmax(acc)]\n",
    "\n",
    "print()\n",
    "print()\n",
    "print(\"Max Accuracy:\",acc_opt)\n",
    "print(\"Max F1:\",F1_opt)"
   ]
  },
  {
   "cell_type": "code",
   "execution_count": 108,
   "metadata": {},
   "outputs": [
    {
     "name": "stdout",
     "output_type": "stream",
     "text": [
      "Optimal Number os Estimators for Accuracy: 11.0\n",
      "Optimal Learning Rate for Accuracy: 0.155\n",
      "Optimal Max Depth for Accuracy 5.0\n",
      "\n",
      "Optimal Number os Estimators for F1: 11.0\n",
      "Optimal Learning Rate for F1: 0.155\n",
      "Optimal Max Depth for F1 5.0\n"
     ]
    }
   ],
   "source": [
    "print(\"Optimal Number os Estimators for Accuracy:\", X_th[np.argmax(acc)])\n",
    "print(\"Optimal Learning Rate for Accuracy:\", Y_th[np.argmax(acc)])\n",
    "print(\"Optimal Max Depth for Accuracy\", Z_th[np.argmax(acc)])\n",
    "print()\n",
    "print(\"Optimal Number os Estimators for F1:\", X_th[np.argmax(F1)])\n",
    "print(\"Optimal Learning Rate for F1:\", Y_th[np.argmax(F1)])\n",
    "print(\"Optimal Max Depth for F1\", Z_th[np.argmax(F1)])"
   ]
  }
 ],
 "metadata": {
  "kernelspec": {
   "display_name": "Python 3 (ipykernel)",
   "language": "python",
   "name": "python3"
  },
  "language_info": {
   "codemirror_mode": {
    "name": "ipython",
    "version": 3
   },
   "file_extension": ".py",
   "mimetype": "text/x-python",
   "name": "python",
   "nbconvert_exporter": "python",
   "pygments_lexer": "ipython3",
   "version": "3.9.12"
  }
 },
 "nbformat": 4,
 "nbformat_minor": 4
}
